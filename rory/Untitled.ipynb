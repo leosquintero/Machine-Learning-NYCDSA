{
 "cells": [
  {
   "cell_type": "code",
   "execution_count": 16,
   "metadata": {},
   "outputs": [],
   "source": [
    "import numpy as np\n",
    "import pandas as pd\n",
    "from sklearn import linear_model\n",
    "from sklearn.model_selection import train_test_split\n",
    "\n"
   ]
  },
  {
   "cell_type": "code",
   "execution_count": 64,
   "metadata": {},
   "outputs": [],
   "source": [
    "def main():\n",
    "    \"\"\" runs Ridge and Lasso r cleaned code \"\"\"\n",
    "\n",
    "    housing = pd.read_csv(\"../Data/train_relevant\", header=0)\n",
    "\n",
    "    y = housing[\"SalePrice\"]\n",
    "\n",
    "    training_features, testing_features, training_target, testing_target = train_test_split(\n",
    "        housing.drop(\"SalePrice\", axis=\"columns\"), y, random_state=42\n",
    "    )\n",
    "\n",
    "    result = []\n",
    "\n",
    "    # 2.1 alpha previously found to give best score\n",
    "    for alpha in np.append(10 ** np.linspace(-1, 2, num=10), [2.1]):\n",
    "\n",
    "        # RIDGE\n",
    "        model = linear_model.Ridge(alpha=alpha)\n",
    "\n",
    "        model.fit(training_features, training_target)\n",
    "\n",
    "        ridge_score_train = model.score(training_features, training_target)\n",
    "        ridge_score_test = model.score(testing_features, testing_target)\n",
    "\n",
    "        # LASSO\n",
    "\n",
    "        model = linear_model.Lasso(alpha=alpha)\n",
    "\n",
    "        model.fit(training_features, training_target)\n",
    "\n",
    "        lasso_score_train = model.score(training_features, training_target)\n",
    "        lasso_score_test = model.score(testing_features, testing_target)\n",
    "\n",
    "        result = result + [\n",
    "            (\n",
    "                \"_4_r_cleaned\",\n",
    "                \"Ridge\",\n",
    "                \"alpha: {:.3f}\".format(alpha),\n",
    "                ridge_score_train,\n",
    "                ridge_score_test,\n",
    "            ),\n",
    "            (\n",
    "                \"_4_r_cleaned\",\n",
    "                \"Lasso\",\n",
    "                \"alpha: {:.3f}\".format(alpha),\n",
    "                lasso_score_train,\n",
    "                lasso_score_test,\n",
    "            ),\n",
    "        ]\n",
    "\n",
    "    return sorted(result, key=lambda x: x[3], reverse=True)[:5]"
   ]
  },
  {
   "cell_type": "code",
   "execution_count": null,
   "metadata": {},
   "outputs": [],
   "source": []
  },
  {
   "cell_type": "code",
   "execution_count": 65,
   "metadata": {},
   "outputs": [
    {
     "data": {
      "text/plain": [
       "[('_4_r_cleaned',\n",
       "  'Ridge',\n",
       "  'alpha: 0.100',\n",
       "  0.9094734963383553,\n",
       "  0.9057994945539903),\n",
       " ('_4_r_cleaned',\n",
       "  'Ridge',\n",
       "  'alpha: 0.215',\n",
       "  0.9093509552383884,\n",
       "  0.9065415361335472),\n",
       " ('_4_r_cleaned',\n",
       "  'Ridge',\n",
       "  'alpha: 0.464',\n",
       "  0.9089992647862924,\n",
       "  0.90737293415213),\n",
       " ('_4_r_cleaned',\n",
       "  'Ridge',\n",
       "  'alpha: 1.000',\n",
       "  0.9082285780295858,\n",
       "  0.9078776992282594),\n",
       " ('_4_r_cleaned',\n",
       "  'Ridge',\n",
       "  'alpha: 2.100',\n",
       "  0.9069573665111447,\n",
       "  0.9076811887930709)]"
      ]
     },
     "execution_count": 65,
     "metadata": {},
     "output_type": "execute_result"
    }
   ],
   "source": [
    "main()"
   ]
  },
  {
   "cell_type": "code",
   "execution_count": 7,
   "metadata": {},
   "outputs": [
    {
     "data": {
      "text/plain": [
       "'C:\\\\Users\\\\Usuario\\\\Desktop\\\\Machine-Learning-NYCDSA\\\\rory'"
      ]
     },
     "execution_count": 7,
     "metadata": {},
     "output_type": "execute_result"
    }
   ],
   "source": []
  }
 ],
 "metadata": {
  "kernelspec": {
   "display_name": "Python 3",
   "language": "python",
   "name": "python3"
  },
  "language_info": {
   "codemirror_mode": {
    "name": "ipython",
    "version": 3
   },
   "file_extension": ".py",
   "mimetype": "text/x-python",
   "name": "python",
   "nbconvert_exporter": "python",
   "pygments_lexer": "ipython3",
   "version": "3.7.1"
  }
 },
 "nbformat": 4,
 "nbformat_minor": 2
}
