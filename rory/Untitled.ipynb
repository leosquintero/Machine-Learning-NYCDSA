{
 "cells": [
  {
   "cell_type": "code",
   "execution_count": 16,
   "metadata": {},
   "outputs": [],
   "source": [
    "import numpy as np\n",
    "import pandas as pd\n",
    "from sklearn import linear_model\n",
    "from sklearn.model_selection import train_test_split\n",
    "\n"
   ]
  },
  {
   "cell_type": "code",
   "execution_count": 27,
   "metadata": {},
   "outputs": [],
   "source": [
    "def main():\n",
    "    \"\"\" runs Ridge and Lasso r cleaned code \"\"\"\n",
    "\n",
    "    housing = pd.read_csv(\"../Data/train_relevant\", header=0)\n",
    "\n",
    "    y = housing[\"SalePrice\"]\n",
    "\n",
    "    training_features, testing_features, training_target, testing_target = train_test_split(\n",
    "        housing.drop(\"SalePrice\", axis=\"columns\"), y, random_state=42\n",
    "    )\n",
    "\n",
    "    result = []\n",
    "\n",
    "    # 2.1 alpha previously found to give best score\n",
    "    for alpha in np.append(10 ** np.linspace(-1, 2, num=10), [2.1]):\n",
    "\n",
    "        # RIDGE\n",
    "        model = linear_model.Ridge(alpha=alpha)\n",
    "\n",
    "        model.fit(training_features, training_target)\n",
    "\n",
    "        ridge_score_train = model.score(training_features, training_target)\n",
    "        ridge_score_test = model.score(testing_features, testing_target)\n",
    "\n",
    "        # LASSO\n",
    "\n",
    "        model = linear_model.Lasso(alpha=alpha)\n",
    "\n",
    "        model.fit(training_features, training_target)\n",
    "\n",
    "        lasso_score_train = model.score(training_features, training_target)\n",
    "        lasso_score_test = model.score(testing_features, testing_target)\n",
    "\n",
    "        result = result + [\n",
    "            (\n",
    "                \"_4_r_cleaned\",\n",
    "                \"Ridge\",\n",
    "                \"alpha: {:.3f}\".format(alpha),\n",
    "                ridge_score_train,\n",
    "                ridge_score_test,\n",
    "            ),\n",
    "            (\n",
    "                \"_4_r_cleaned\",\n",
    "                \"Lasso\",\n",
    "                \"alpha: {:.3f}\".format(alpha),\n",
    "                lasso_score_train,\n",
    "                lasso_score_test,\n",
    "            ),\n",
    "        ]\n",
    "\n",
    "    return sorted(result, key=lambda x: x[3], reverse=True)[:5]"
   ]
  },
  {
   "cell_type": "code",
   "execution_count": null,
   "metadata": {},
   "outputs": [],
   "source": []
  },
  {
   "cell_type": "code",
   "execution_count": 28,
   "metadata": {},
   "outputs": [
    {
     "data": {
      "text/plain": [
       "[('_4_r_cleaned',\n",
       "  'Lasso',\n",
       "  'alpha: 0.100',\n",
       "  0.922304933088948,\n",
       "  0.6891938090441612),\n",
       " ('_4_r_cleaned',\n",
       "  'Lasso',\n",
       "  'alpha: 0.215',\n",
       "  0.9223047604726486,\n",
       "  0.6891365433475758),\n",
       " ('_4_r_cleaned',\n",
       "  'Lasso',\n",
       "  'alpha: 0.464',\n",
       "  0.9223039592587637,\n",
       "  0.6890120517759889),\n",
       " ('_4_r_cleaned',\n",
       "  'Lasso',\n",
       "  'alpha: 1.000',\n",
       "  0.9223002403533651,\n",
       "  0.6887386610917554),\n",
       " ('_4_r_cleaned',\n",
       "  'Lasso',\n",
       "  'alpha: 2.100',\n",
       "  0.922284076486744,\n",
       "  0.6881552524781296)]"
      ]
     },
     "execution_count": 28,
     "metadata": {},
     "output_type": "execute_result"
    }
   ],
   "source": [
    "main()"
   ]
  },
  {
   "cell_type": "code",
   "execution_count": 7,
   "metadata": {},
   "outputs": [
    {
     "data": {
      "text/plain": [
       "'C:\\\\Users\\\\Usuario\\\\Desktop\\\\Machine-Learning-NYCDSA\\\\rory'"
      ]
     },
     "execution_count": 7,
     "metadata": {},
     "output_type": "execute_result"
    }
   ],
   "source": []
  }
 ],
 "metadata": {
  "kernelspec": {
   "display_name": "Python 3",
   "language": "python",
   "name": "python3"
  },
  "language_info": {
   "codemirror_mode": {
    "name": "ipython",
    "version": 3
   },
   "file_extension": ".py",
   "mimetype": "text/x-python",
   "name": "python",
   "nbconvert_exporter": "python",
   "pygments_lexer": "ipython3",
   "version": "3.7.1"
  }
 },
 "nbformat": 4,
 "nbformat_minor": 2
}
